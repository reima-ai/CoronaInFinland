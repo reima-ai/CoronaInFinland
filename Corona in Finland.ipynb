{
 "cells": [
  {
   "cell_type": "markdown",
   "metadata": {},
   "source": [
    "# Corona status in Finland"
   ]
  },
  {
   "cell_type": "markdown",
   "metadata": {},
   "source": [
    "<i>Calculations by Reima Tuhkanen, reima.tuhkanen@intellinord.com, 2020-03-15</i>"
   ]
  },
  {
   "cell_type": "markdown",
   "metadata": {},
   "source": [
    "Almost all COVID-19 cases in Finland are tested before 14.3.2020. It is known, that all the cases have not been tested, even if the person had symptoms of the disease, but the other criteria have not been met. How ever data is useful. <BR>\n",
    "    \n",
    "The disease will spread if preventive measures are not taken, ie social contacts are not minimized.<BR>\n",
    " "
   ]
  },
  {
   "cell_type": "markdown",
   "metadata": {},
   "source": [
    "### Comments of this study"
   ]
  },
  {
   "cell_type": "markdown",
   "metadata": {},
   "source": [
    "This study is based purely on math. No machine learning is used. It is also good to know, that when 60% of population has had the virus spread speed will decrease and when immunity level is about 90%, virus is not spreading any more. \n",
    "\n",
    "Sivun tiedot pohjautuvat Helsingin Sanomien julkaisemaan avoimeen dataan Suomen koronavirus-tartunnoista. HS on kerännyt aineiston julkisista lähteistä: tiedotustilaisuuksista, mediasta ja haastatteluista. Dataa päivitetään aina kun uusia tietoja tulee. https://github.com/HS-Datadesk/koronavirus-avoindata"
   ]
  },
  {
   "cell_type": "code",
   "execution_count": 22,
   "metadata": {
    "scrolled": true
   },
   "outputs": [],
   "source": [
    "%matplotlib inline\n",
    "import matplotlib.pyplot as plt\n",
    "plt.style.use('seaborn-whitegrid')\n",
    "import pandas as pd\n",
    "import numpy as np\n",
    "import urllib.request as request\n",
    "import json\n",
    "import datetime\n",
    "from scipy.optimize import curve_fit\n",
    "from datetime import datetime, date, timedelta\n",
    "import time\n",
    "import matplotlib.dates as mdates"
   ]
  },
  {
   "cell_type": "code",
   "execution_count": 23,
   "metadata": {},
   "outputs": [],
   "source": [
    "def func(x, a, b, c):\n",
    "    return a * np.exp(b * x) + c\n",
    "\n",
    "def predictTotal(Date,model):\n",
    "    \n",
    "    date_format = \"%d.%m.%Y\"\n",
    "    start_date = datetime.strptime('26.02.2020', date_format)\n",
    "    pred_date = datetime.strptime(Date, date_format)\n",
    "    \n",
    "    x = (pred_date-start_date).days\n",
    "    return round(func(x, *model))\n",
    "\n",
    "def predictNew(Date,model):\n",
    "    \n",
    "    date_format = \"%d.%m.%Y\"\n",
    "    start_date = datetime.strptime('26.02.2020', date_format)\n",
    "    pred_date = datetime.strptime(Date, date_format)\n",
    "     \n",
    "    \n",
    "    x = (pred_date-start_date).days\n",
    "    return round(func(x, *model) - func(x-1, *model))"
   ]
  },
  {
   "cell_type": "markdown",
   "metadata": {},
   "source": [
    "## Death Rate\n",
    "Death rate is not known. Data from different countries is measured different methods. Best estimation might be South Korea information, because testing is very active there. Closed cases (https://www.worldometers.info/coronavirus/country/south-korea/) shows currently 6.19% but it is still going down.  In China, (https://www.worldometers.info/coronavirus/country/china/) it is 4.49%, but testing is not so systematic than in South Korea. Tests are manufactured in South Korea.There are several different estimations, we use 3% here. <BR>\n",
    "Study from S.Korea and Italy tells, that death peak is 5 days after confirmed peak. According China graphs, delay is longer, but China information is unclear, because diagnostics method was changed 12.2.2020."
   ]
  },
  {
   "cell_type": "code",
   "execution_count": 24,
   "metadata": {
    "scrolled": true
   },
   "outputs": [],
   "source": [
    "def predictDeath(Date,model):\n",
    "   \n",
    "    date_format = \"%d.%m.%Y\"\n",
    "    start_date = datetime.strptime('26.02.2020', date_format)\n",
    "    pred_date = datetime.strptime(Date, date_format)\n",
    "     \n",
    "    \n",
    "    x = (pred_date-start_date).days\n",
    "    return round((func(x-5, *model) - func(x-6, *model))*0.03)"
   ]
  },
  {
   "cell_type": "markdown",
   "metadata": {},
   "source": [
    "### Finnish Corona data from open data"
   ]
  },
  {
   "cell_type": "code",
   "execution_count": 25,
   "metadata": {
    "scrolled": true
   },
   "outputs": [],
   "source": [
    "url = 'https://w3qa5ydb4l.execute-api.eu-west-1.amazonaws.com/prod/finnishCoronaData'"
   ]
  },
  {
   "cell_type": "code",
   "execution_count": 26,
   "metadata": {
    "scrolled": true
   },
   "outputs": [],
   "source": [
    " with request.urlopen(url) as response:\n",
    "        source = response.read()\n",
    "        data = json.loads(source)"
   ]
  },
  {
   "cell_type": "code",
   "execution_count": 27,
   "metadata": {
    "scrolled": true
   },
   "outputs": [],
   "source": [
    "newdata = data['confirmed']\n",
    "df = pd.DataFrame.from_dict(newdata)"
   ]
  },
  {
   "cell_type": "code",
   "execution_count": 28,
   "metadata": {
    "scrolled": true
   },
   "outputs": [],
   "source": [
    "df['date'] = pd.to_datetime(df['date'])\n",
    "df['date'] = df['date'].dt.date\n",
    "confirmed = len(df)"
   ]
  },
  {
   "cell_type": "markdown",
   "metadata": {},
   "source": [
    "### Chinese case in Lapland was separate case. We can drop that."
   ]
  },
  {
   "cell_type": "code",
   "execution_count": 29,
   "metadata": {
    "scrolled": true
   },
   "outputs": [
    {
     "data": {
      "text/html": [
       "<div>\n",
       "<style scoped>\n",
       "    .dataframe tbody tr th:only-of-type {\n",
       "        vertical-align: middle;\n",
       "    }\n",
       "\n",
       "    .dataframe tbody tr th {\n",
       "        vertical-align: top;\n",
       "    }\n",
       "\n",
       "    .dataframe thead th {\n",
       "        text-align: right;\n",
       "    }\n",
       "</style>\n",
       "<table border=\"1\" class=\"dataframe\">\n",
       "  <thead>\n",
       "    <tr style=\"text-align: right;\">\n",
       "      <th></th>\n",
       "      <th>id</th>\n",
       "      <th>date</th>\n",
       "      <th>healthCareDistrict</th>\n",
       "      <th>infectionSourceCountry</th>\n",
       "      <th>infectionSource</th>\n",
       "    </tr>\n",
       "  </thead>\n",
       "  <tbody>\n",
       "    <tr>\n",
       "      <th>291</th>\n",
       "      <td>294</td>\n",
       "      <td>2020-03-17</td>\n",
       "      <td>HUS</td>\n",
       "      <td>None</td>\n",
       "      <td>unknown</td>\n",
       "    </tr>\n",
       "    <tr>\n",
       "      <th>292</th>\n",
       "      <td>295</td>\n",
       "      <td>2020-03-17</td>\n",
       "      <td>HUS</td>\n",
       "      <td>None</td>\n",
       "      <td>unknown</td>\n",
       "    </tr>\n",
       "    <tr>\n",
       "      <th>293</th>\n",
       "      <td>296</td>\n",
       "      <td>2020-03-17</td>\n",
       "      <td>HUS</td>\n",
       "      <td>None</td>\n",
       "      <td>unknown</td>\n",
       "    </tr>\n",
       "    <tr>\n",
       "      <th>295</th>\n",
       "      <td>298</td>\n",
       "      <td>2020-03-17</td>\n",
       "      <td>HUS</td>\n",
       "      <td>None</td>\n",
       "      <td>unknown</td>\n",
       "    </tr>\n",
       "    <tr>\n",
       "      <th>316</th>\n",
       "      <td>325</td>\n",
       "      <td>2020-03-17</td>\n",
       "      <td>Pohjois-Savo</td>\n",
       "      <td>None</td>\n",
       "      <td>unknown</td>\n",
       "    </tr>\n",
       "  </tbody>\n",
       "</table>\n",
       "</div>"
      ],
      "text/plain": [
       "      id        date healthCareDistrict infectionSourceCountry infectionSource\n",
       "291  294  2020-03-17                HUS                   None         unknown\n",
       "292  295  2020-03-17                HUS                   None         unknown\n",
       "293  296  2020-03-17                HUS                   None         unknown\n",
       "295  298  2020-03-17                HUS                   None         unknown\n",
       "316  325  2020-03-17       Pohjois-Savo                   None         unknown"
      ]
     },
     "execution_count": 29,
     "metadata": {},
     "output_type": "execute_result"
    }
   ],
   "source": [
    "df = df[df['infectionSourceCountry'] != 'CHN']\n",
    "df.sort_values('date',inplace = True)\n",
    "df.tail()"
   ]
  },
  {
   "cell_type": "code",
   "execution_count": 30,
   "metadata": {
    "scrolled": true
   },
   "outputs": [],
   "source": [
    "df1 = df.groupby('date').size().reset_index(name='New Cases')\n",
    "df1 = df1.set_index(['date'])\n",
    "df1['Cum'] = df1.cumsum()"
   ]
  },
  {
   "cell_type": "markdown",
   "metadata": {},
   "source": [
    "### Drop current day, statistics for the current day is not ready"
   ]
  },
  {
   "cell_type": "code",
   "execution_count": 31,
   "metadata": {
    "scrolled": true
   },
   "outputs": [],
   "source": [
    "df1.reset_index(inplace = True)\n",
    "df1['days'] = df1['date'].shift(-1) - df1['date']\n",
    "df1['Cumdays'] = df1['days'].cumsum()\n",
    "df1['Cumdays2'] = df1['Cumdays'].shift(1)\n",
    "df1['Cumdays2'] = df1['Cumdays2'] / np.timedelta64(1, 'D')\n",
    "df1 = df1.fillna(0.0)\n",
    "df1.drop(['days', 'Cumdays'], axis=1, inplace=True)\n",
    "df1.columns = ['date','New Cases','Cum','day']\n",
    "df1.head(20)\n",
    "df_malli = df1[df1['day']<18]\n",
    "df_havainnot = df1[df1['day']>=18]\n"
   ]
  },
  {
   "cell_type": "markdown",
   "metadata": {},
   "source": [
    "### New Confirmed Cases"
   ]
  },
  {
   "cell_type": "code",
   "execution_count": 32,
   "metadata": {
    "scrolled": true
   },
   "outputs": [
    {
     "data": {
      "text/plain": [
       "Text(0.5, 1.0, 'New Confirmed Cases in Finland')"
      ]
     },
     "execution_count": 32,
     "metadata": {},
     "output_type": "execute_result"
    },
    {
     "data": {
      "image/png": "[encoded data removed]",
      "text/plain": [
       "<Figure size 432x288 with 1 Axes>"
      ]
     },
     "metadata": {},
     "output_type": "display_data"
    }
   ],
   "source": [
    "df1.plot(kind='bar',x='date',y='New Cases')\n",
    "plt.title('New Confirmed Cases in Finland')"
   ]
  },
  {
   "cell_type": "markdown",
   "metadata": {},
   "source": [
    "### Prediction Curve"
   ]
  },
  {
   "cell_type": "markdown",
   "metadata": {},
   "source": [
    "Prediction curve has some limitations:\n",
    "- Population in Finland is 5 540 000 people.\n",
    "- The spread of the disease slows as the population's immunity increases.\n",
    "- It is not known how effectively and how fast the social isolation will slow down the spread of the disease. Italy information can be used in the future. Social isolation started 17.3.2020 in Finland. \n",
    "- Testing criterias were changed on 15.3.2020. Only risk groups and cases that needs hospital care or people working in hospitals are tested. "
   ]
  },
  {
   "cell_type": "code",
   "execution_count": 33,
   "metadata": {
    "scrolled": true
   },
   "outputs": [
    {
     "name": "stdout",
     "output_type": "stream",
     "text": [
      "Function in Finland: 2.9850876577741374 + 0.40696229777701726*10^(<days since 26.02.202>*0.40696229777701726 )\n"
     ]
    }
   ],
   "source": [
    "x = df_malli['day']\n",
    "y = df_malli['Cum']\n",
    "popt, pcov = curve_fit(func, x, y)\n",
    "print(\"Function in Finland: \" + str(popt[2]) + \" + \" + str(popt[1]) + \"*10^(<days since 26.02.202>*\" + str(popt[1]) + \" )\")\n"
   ]
  },
  {
   "cell_type": "markdown",
   "metadata": {},
   "source": [
    "### Cumulative cases fitted to function"
   ]
  },
  {
   "cell_type": "code",
   "execution_count": 34,
   "metadata": {
    "scrolled": true
   },
   "outputs": [
    {
     "data": {
      "image/png": "[encoded data removed]",
      "text/plain": [
       "<Figure size 432x288 with 1 Axes>"
      ]
     },
     "metadata": {},
     "output_type": "display_data"
    }
   ],
   "source": [
    "plt.figure()\n",
    "plt.plot(df_malli['date'], y, 'ko--', label=\"Total Cases\")\n",
    "plt.plot(df1['date'], func(df1['day'], *popt), 'r-', label=\"Prediction\")\n",
    "plt.plot(df_havainnot['date'],df_havainnot['Cum'], 'bo--', label=\"Testing reduced\")\n",
    "plt.title('Corona situation in Finland')\n",
    "plt.xticks(rotation=90)\n",
    "plt.legend()\n",
    "plt.show()"
   ]
  },
  {
   "cell_type": "markdown",
   "metadata": {},
   "source": [
    "### How many cases there will be on some specific day?"
   ]
  },
  {
   "cell_type": "markdown",
   "metadata": {},
   "source": [
    "In the beginning of epidemy in Finland, 176/272 are in age of 25-54 years. Only 10 are older than 65 years. That explains very low mortality rate in the beginning of the epidemy in Finland. "
   ]
  },
  {
   "cell_type": "code",
   "execution_count": 43,
   "metadata": {},
   "outputs": [
    {
     "data": {
      "image/png": "[encoded data removed]",
      "text/plain": [
       "<Figure size 432x288 with 1 Axes>"
      ]
     },
     "metadata": {},
     "output_type": "display_data"
    }
   ],
   "source": [
    "labels = 'under 12', '12-17 years','18-24 years', '25-34 years', '35-44 years', '45-54 years', '55-64 years', '65-74 years', 'over 75', 'unknown'\n",
    "sizes = [7, 7,28,66,50,60,40,6,4,4]\n",
    "explode = (0, 0,0,0,0,0,0,0,0.2,0)\n",
    "fig1, ax1 = plt.subplots()\n",
    "ax1.pie(sizes, explode=explode, labels=labels, autopct='%1.1f%%',shadow=True, startangle=0)\n",
    "ax1.axis('equal') \n",
    "plt.title('Age Distribution when there was 272 confirmed cases')\n",
    "plt.show()"
   ]
  },
  {
   "cell_type": "markdown",
   "metadata": {},
   "source": [
    "### Predicting Near Future"
   ]
  },
  {
   "cell_type": "code",
   "execution_count": 44,
   "metadata": {
    "scrolled": true
   },
   "outputs": [
    {
     "name": "stdout",
     "output_type": "stream",
     "text": [
      "17.03.2020 total: 765, new: 255 new deaths: 1 First death in other countries when there has been over 800 cases.\n",
      "18.03.2020 total: 1147, new: 383 new deaths: 2\n",
      "19.03.2020 total: 1722, new: 575 new deaths: 2\n",
      "20.03.2020 total: 2586, new: 863 new deaths: 3\n",
      "21.03.2020 total: 3883, new: 1297 new deaths: 5\n",
      "22.03.2020 total: 5832, new: 1949 new deaths: 8 Entire region of Lombardy is in lockdown. 7.3.2020\n",
      "23.03.2020 total: 8759, new: 2927 new deaths: 11 Northern Italy under lockdown. 8.3.2020\n",
      "24.03.2020 total: 13157, new: 4398 new deaths: 17 Italy 12.3.20200, deaths 1000.\n",
      "25.03.2020 total: 19763, new: 6606 new deaths: 26 Hubei for Feb. 12: 14,840 new cases and 242 new deaths.\n",
      "26.03.2020 total: 29687, new: 9924 new deaths: 39 \n",
      "27.03.2020 total: 44596, new: 14909 new deaths: 58 \n",
      "28.03.2020 total: 66993, new: 22397 new deaths: 88 \n",
      "29.03.2020 total: 100639, new: 33646 new deaths: 132 China 18.2.2018. deaths 2000\n",
      "30.03.2020 total: 151183, new: 50544 new deaths: 198 \n",
      "31.03.2020 total: 227113, new: 75930 new deaths: 298 \n"
     ]
    }
   ],
   "source": [
    "note = \"\"\n",
    "today = date.today()\n",
    "for i in range(15):\n",
    "    end_date = today + timedelta(days=i)\n",
    "    day2 = end_date.strftime(\"%d.%m.%Y\")\n",
    "    prediction = predictTotal(day2,popt)\n",
    "    predict_new = predictNew(day2,popt)\n",
    "    deaths = predictDeath(day2,popt)\n",
    "    if prediction > 110000:\n",
    "        note = \" \"\n",
    "    elif prediction > 74000:\n",
    "        note = \" China 18.2.2018. deaths 2000\"\n",
    "    elif prediction > 20000:\n",
    "        note = \" \"\n",
    "    elif prediction > 14800:\n",
    "        note = \" Hubei for Feb. 12: 14,840 new cases and 242 new deaths.\"\n",
    "    elif prediction > 12800:\n",
    "        note = \" Italy 12.3.20200, deaths 1000.\"\n",
    "    elif prediction > 12000:\n",
    "        note = \" Italy shut down 11.3.2020.\"\n",
    "    elif prediction > 9000:\n",
    "        note = \" Italy strict quarantine measures extended to all regions. 9.3.2020\"\n",
    "    elif prediction > 6000:\n",
    "        note = \" Northern Italy under lockdown. 8.3.2020\"\n",
    "    elif prediction > 5000:\n",
    "        note = \" Entire region of Lombardy is in lockdown. 7.3.2020\"\n",
    "    elif prediction > 1000:\n",
    "        note = \"\"\n",
    "    elif prediction > 700:\n",
    "        note = \" First death in other countries when there has been over 800 cases.\"\n",
    "    print(day2 + \" total: \" + str(int(prediction)) + \", new: \"+ str(int(predict_new)) + \" new deaths: \" + str(int(deaths))  + note)"
   ]
  },
  {
   "cell_type": "markdown",
   "metadata": {},
   "source": [
    "### How many people are not aware having Corona today?"
   ]
  },
  {
   "cell_type": "code",
   "execution_count": 37,
   "metadata": {
    "scrolled": true
   },
   "outputs": [
    {
     "name": "stdout",
     "output_type": "stream",
     "text": [
      "Wash your hands, because 5067.0 people are out there without knowing having COVID-19!\n"
     ]
    }
   ],
   "source": [
    "today = date.today()\n",
    "end_date = today + timedelta(days=5)\n",
    "day1 = today.strftime(\"%d.%m.%Y\")\n",
    "day2 = end_date.strftime(\"%d.%m.%Y\")\n",
    "\n",
    "print(\"Wash your hands, because \" + str(predictTotal(day2,popt) - predictTotal(day1,popt)) + \" people are out there without knowing having COVID-19!\")"
   ]
  },
  {
   "cell_type": "markdown",
   "metadata": {},
   "source": [
    "### Confirmed cases in Finland"
   ]
  },
  {
   "cell_type": "code",
   "execution_count": 38,
   "metadata": {},
   "outputs": [
    {
     "name": "stdout",
     "output_type": "stream",
     "text": [
      "There are 317 confirmed cases in Finland\n"
     ]
    }
   ],
   "source": [
    "print(\"There are \" + str(confirmed) + \" confirmed cases in Finland\")"
   ]
  },
  {
   "cell_type": "markdown",
   "metadata": {},
   "source": [
    "### Recovered cases in Finland"
   ]
  },
  {
   "cell_type": "code",
   "execution_count": 39,
   "metadata": {},
   "outputs": [
    {
     "name": "stdout",
     "output_type": "stream",
     "text": [
      "10 persons has recovered from COVID-19\n",
      "That is 3 % of confirmed cases\n"
     ]
    }
   ],
   "source": [
    "newdata = data['recovered']\n",
    "recovered_df = pd.DataFrame.from_dict(newdata)\n",
    "recovered = len(recovered_df)\n",
    "print(str(recovered) + \" persons has recovered from COVID-19\")\n",
    "print(\"That is \" + str(round(100*recovered/confirmed)) + \" % of confirmed cases\")"
   ]
  },
  {
   "cell_type": "markdown",
   "metadata": {},
   "source": [
    "### Active Cases"
   ]
  },
  {
   "cell_type": "code",
   "execution_count": 40,
   "metadata": {},
   "outputs": [
    {
     "name": "stdout",
     "output_type": "stream",
     "text": [
      "There are 307 active cases in Finland officially\n"
     ]
    }
   ],
   "source": [
    "print(\"There are \" + str(confirmed - recovered) + \" active cases in Finland officially\")"
   ]
  },
  {
   "cell_type": "code",
   "execution_count": 41,
   "metadata": {},
   "outputs": [
    {
     "data": {
      "image/png": "[encoded data removed]",
      "text/plain": [
       "<Figure size 432x288 with 1 Axes>"
      ]
     },
     "metadata": {},
     "output_type": "display_data"
    }
   ],
   "source": [
    "labels = 'Recovered', 'Active'\n",
    "sizes = [recovered/confirmed, (confirmed - recovered)/confirmed]\n",
    "explode = (0, 0.1)\n",
    "fig1, ax1 = plt.subplots()\n",
    "ax1.pie(sizes, explode=explode, labels=labels, autopct='%1.1f%%',shadow=True, startangle=0)\n",
    "ax1.axis('equal') \n",
    "plt.title('Recovered vs. Active')\n",
    "plt.show()"
   ]
  },
  {
   "cell_type": "markdown",
   "metadata": {},
   "source": [
    "### Deaths"
   ]
  },
  {
   "cell_type": "code",
   "execution_count": 42,
   "metadata": {},
   "outputs": [
    {
     "name": "stdout",
     "output_type": "stream",
     "text": [
      "0 persons have died in Finland from COVID-19\n",
      "That is 0 % of confirmed cases\n"
     ]
    }
   ],
   "source": [
    "newdata = data['deaths']\n",
    "deaths_df = pd.DataFrame.from_dict(newdata)\n",
    "deaths = len(deaths_df)\n",
    "print(str(deaths) + \" persons have died in Finland from COVID-19\")\n",
    "print(\"That is \" + str(round(100*(deaths)/recovered+deaths)) + \" % of confirmed cases\")"
   ]
  },
  {
   "cell_type": "code",
   "execution_count": null,
   "metadata": {},
   "outputs": [],
   "source": []
  },
  {
   "cell_type": "code",
   "execution_count": null,
   "metadata": {},
   "outputs": [],
   "source": []
  }
 ],
 "metadata": {
  "kernelspec": {
   "display_name": "Python 3",
   "language": "python",
   "name": "python3"
  },
  "language_info": {
   "codemirror_mode": {
    "name": "ipython",
    "version": 3
   },
   "file_extension": ".py",
   "mimetype": "text/x-python",
   "name": "python",
   "nbconvert_exporter": "python",
   "pygments_lexer": "ipython3",
   "version": "3.7.4"
  }
 },
 "nbformat": 4,
 "nbformat_minor": 2
}
