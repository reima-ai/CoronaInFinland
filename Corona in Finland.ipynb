{
 "cells": [
  {
   "cell_type": "markdown",
   "metadata": {},
   "source": [
    "# Corona status in Finland"
   ]
  },
  {
   "cell_type": "markdown",
   "metadata": {},
   "source": [
    "<i>Calculations by Reima Tuhkanen, reima.tuhkanen@intellinord.com, 2020-03-15</i>"
   ]
  },
  {
   "cell_type": "markdown",
   "metadata": {},
   "source": [
    "Almost all COVID-19 cases in Finland are tested before 14.3.2020. It is known, that all the cases have not been tested, even if the person had symptoms of the disease, but the other criteria have not been met. How ever data is useful. <BR>\n",
    "    \n",
    "The disease will spread if preventive measures are not taken, ie social contacts are not minimized.<BR>\n",
    " "
   ]
  },
  {
   "cell_type": "markdown",
   "metadata": {},
   "source": [
    "### Comments of this study"
   ]
  },
  {
   "cell_type": "markdown",
   "metadata": {},
   "source": [
    "This study is based purely on math. No machine learning is used. It is also good to know, that when 60% of population has had the virus spread speed will decrease and when immunity level is about 90%, virus is not spreading any more. \n",
    "\n",
    "Sivun tiedot pohjautuvat Helsingin Sanomien julkaisemaan avoimeen dataan Suomen koronavirus-tartunnoista. HS on kerännyt aineiston julkisista lähteistä: tiedotustilaisuuksista, mediasta ja haastatteluista. Dataa päivitetään aina kun uusia tietoja tulee. https://github.com/HS-Datadesk/koronavirus-avoindata"
   ]
  },
  {
   "cell_type": "code",
   "execution_count": 266,
   "metadata": {
    "scrolled": true
   },
   "outputs": [],
   "source": [
    "%matplotlib inline\n",
    "import matplotlib.pyplot as plt\n",
    "plt.style.use('seaborn-whitegrid')\n",
    "import pandas as pd\n",
    "import numpy as np\n",
    "import urllib.request as request\n",
    "import json\n",
    "import datetime\n",
    "from scipy.optimize import curve_fit\n",
    "from datetime import datetime, date, timedelta\n",
    "import time\n",
    "import matplotlib.dates as mdates"
   ]
  },
  {
   "cell_type": "code",
   "execution_count": 267,
   "metadata": {
    "scrolled": true
   },
   "outputs": [],
   "source": [
    "def func(x, a, b, c):\n",
    "    return a * np.exp(b * x) + c"
   ]
  },
  {
   "cell_type": "markdown",
   "metadata": {},
   "source": [
    "### Finnish Corona data from open data"
   ]
  },
  {
   "cell_type": "code",
   "execution_count": 268,
   "metadata": {
    "scrolled": true
   },
   "outputs": [],
   "source": [
    "url = 'https://w3qa5ydb4l.execute-api.eu-west-1.amazonaws.com/prod/finnishCoronaData'"
   ]
  },
  {
   "cell_type": "code",
   "execution_count": 269,
   "metadata": {
    "scrolled": true
   },
   "outputs": [],
   "source": [
    " with request.urlopen(url) as response:\n",
    "        source = response.read()\n",
    "        data = json.loads(source)"
   ]
  },
  {
   "cell_type": "code",
   "execution_count": 270,
   "metadata": {
    "scrolled": true
   },
   "outputs": [],
   "source": [
    "newdata = data['confirmed']\n",
    "df = pd.DataFrame.from_dict(newdata)"
   ]
  },
  {
   "cell_type": "code",
   "execution_count": 271,
   "metadata": {
    "scrolled": true
   },
   "outputs": [],
   "source": [
    "df['date'] = pd.to_datetime(df['date'])\n",
    "df['date'] = df['date'].dt.date"
   ]
  },
  {
   "cell_type": "markdown",
   "metadata": {},
   "source": [
    "### Chinese case in Lapland was separate case. We can drop that."
   ]
  },
  {
   "cell_type": "code",
   "execution_count": 272,
   "metadata": {
    "scrolled": true
   },
   "outputs": [
    {
     "data": {
      "text/html": [
       "<div>\n",
       "<style scoped>\n",
       "    .dataframe tbody tr th:only-of-type {\n",
       "        vertical-align: middle;\n",
       "    }\n",
       "\n",
       "    .dataframe tbody tr th {\n",
       "        vertical-align: top;\n",
       "    }\n",
       "\n",
       "    .dataframe thead th {\n",
       "        text-align: right;\n",
       "    }\n",
       "</style>\n",
       "<table border=\"1\" class=\"dataframe\">\n",
       "  <thead>\n",
       "    <tr style=\"text-align: right;\">\n",
       "      <th></th>\n",
       "      <th>id</th>\n",
       "      <th>date</th>\n",
       "      <th>healthCareDistrict</th>\n",
       "      <th>infectionSourceCountry</th>\n",
       "      <th>infectionSource</th>\n",
       "    </tr>\n",
       "  </thead>\n",
       "  <tbody>\n",
       "    <tr>\n",
       "      <th>253</th>\n",
       "      <td>256</td>\n",
       "      <td>2020-03-16</td>\n",
       "      <td>HUS</td>\n",
       "      <td>None</td>\n",
       "      <td>unknown</td>\n",
       "    </tr>\n",
       "    <tr>\n",
       "      <th>254</th>\n",
       "      <td>257</td>\n",
       "      <td>2020-03-16</td>\n",
       "      <td>HUS</td>\n",
       "      <td>None</td>\n",
       "      <td>unknown</td>\n",
       "    </tr>\n",
       "    <tr>\n",
       "      <th>256</th>\n",
       "      <td>259</td>\n",
       "      <td>2020-03-16</td>\n",
       "      <td>HUS</td>\n",
       "      <td>None</td>\n",
       "      <td>unknown</td>\n",
       "    </tr>\n",
       "    <tr>\n",
       "      <th>249</th>\n",
       "      <td>252</td>\n",
       "      <td>2020-03-16</td>\n",
       "      <td>HUS</td>\n",
       "      <td>None</td>\n",
       "      <td>unknown</td>\n",
       "    </tr>\n",
       "    <tr>\n",
       "      <th>276</th>\n",
       "      <td>279</td>\n",
       "      <td>2020-03-16</td>\n",
       "      <td>Pirkanmaa</td>\n",
       "      <td>None</td>\n",
       "      <td>unknown</td>\n",
       "    </tr>\n",
       "  </tbody>\n",
       "</table>\n",
       "</div>"
      ],
      "text/plain": [
       "      id        date healthCareDistrict infectionSourceCountry infectionSource\n",
       "253  256  2020-03-16                HUS                   None         unknown\n",
       "254  257  2020-03-16                HUS                   None         unknown\n",
       "256  259  2020-03-16                HUS                   None         unknown\n",
       "249  252  2020-03-16                HUS                   None         unknown\n",
       "276  279  2020-03-16          Pirkanmaa                   None         unknown"
      ]
     },
     "execution_count": 272,
     "metadata": {},
     "output_type": "execute_result"
    }
   ],
   "source": [
    "df = df[df['infectionSourceCountry'] != 'CHN']\n",
    "df.sort_values('date',inplace = True)\n",
    "df.tail()"
   ]
  },
  {
   "cell_type": "code",
   "execution_count": 273,
   "metadata": {
    "scrolled": true
   },
   "outputs": [],
   "source": [
    "df1 = df.groupby('date').size().reset_index(name='New Cases')\n",
    "df1 = df1.set_index(['date'])\n",
    "df1['Cum'] = df1.cumsum()\n"
   ]
  },
  {
   "cell_type": "markdown",
   "metadata": {},
   "source": [
    "### Drop current day, statistics for the current day is not ready"
   ]
  },
  {
   "cell_type": "code",
   "execution_count": 274,
   "metadata": {
    "scrolled": true
   },
   "outputs": [
    {
     "data": {
      "text/plain": [
       "(array([737482., 737484., 737485., 737487., 737489., 737491., 737493.,\n",
       "        737495., 737497., 737499.]), <a list of 10 Text xticklabel objects>)"
      ]
     },
     "execution_count": 274,
     "metadata": {},
     "output_type": "execute_result"
    },
    {
     "data": {
      "image/png": "[encoded data removed]",
      "text/plain": [
       "<Figure size 432x288 with 1 Axes>"
      ]
     },
     "metadata": {},
     "output_type": "display_data"
    }
   ],
   "source": [
    "#df1 = df1[:-1]\n",
    "ax = df1['Cum'].plot(style='ro--', title='New cases')\n",
    "ax.set_xlabel('date')\n",
    "plt.xticks(rotation=90)"
   ]
  },
  {
   "cell_type": "code",
   "execution_count": 275,
   "metadata": {
    "scrolled": true
   },
   "outputs": [],
   "source": [
    "df1.reset_index(inplace = True)"
   ]
  },
  {
   "cell_type": "code",
   "execution_count": 276,
   "metadata": {
    "scrolled": true
   },
   "outputs": [],
   "source": [
    "df1['days'] = df1['date'].shift(-1) - df1['date']\n",
    "df1['Cumdays'] = df1['days'].cumsum()\n",
    "df1['Cumdays2'] = df1['Cumdays'].shift(1)\n",
    "df1['Cumdays2'] = df1['Cumdays2'] / np.timedelta64(1, 'D')\n",
    "df1 = df1.fillna(0.0)\n",
    "df1.drop(['days', 'Cumdays'], axis=1, inplace=True)\n",
    "df1.columns = ['date','New Cases','Cum','day']\n",
    "df1.head(20)\n",
    "df_malli = df1[df1['day']<18]\n",
    "df_havainnot = df1[df1['day']>=18]\n"
   ]
  },
  {
   "cell_type": "code",
   "execution_count": 277,
   "metadata": {
    "scrolled": true
   },
   "outputs": [
    {
     "data": {
      "text/plain": [
       "<matplotlib.axes._subplots.AxesSubplot at 0x1666c7239c8>"
      ]
     },
     "execution_count": 277,
     "metadata": {},
     "output_type": "execute_result"
    },
    {
     "data": {
      "image/png": "[encoded data removed]",
      "text/plain": [
       "<Figure size 432x288 with 1 Axes>"
      ]
     },
     "metadata": {},
     "output_type": "display_data"
    }
   ],
   "source": [
    "df1.plot(kind='bar',x='date',y='New Cases')"
   ]
  },
  {
   "cell_type": "code",
   "execution_count": 278,
   "metadata": {
    "scrolled": true
   },
   "outputs": [
    {
     "data": {
      "text/plain": [
       "date          object\n",
       "New Cases      int64\n",
       "Cum            int64\n",
       "day          float64\n",
       "dtype: object"
      ]
     },
     "execution_count": 278,
     "metadata": {},
     "output_type": "execute_result"
    }
   ],
   "source": [
    "df_malli.dtypes"
   ]
  },
  {
   "cell_type": "code",
   "execution_count": 279,
   "metadata": {
    "scrolled": true
   },
   "outputs": [
    {
     "data": {
      "text/plain": [
       "array([0.22234472, 0.4069623 , 2.98508766])"
      ]
     },
     "execution_count": 279,
     "metadata": {},
     "output_type": "execute_result"
    }
   ],
   "source": [
    "x = df_malli['day']\n",
    "y = df_malli['Cum']\n",
    "popt, pcov = curve_fit(func, x, y)\n",
    "popt\n"
   ]
  },
  {
   "cell_type": "markdown",
   "metadata": {},
   "source": [
    "### Cumulative cases fitted to function"
   ]
  },
  {
   "cell_type": "code",
   "execution_count": 280,
   "metadata": {
    "scrolled": true
   },
   "outputs": [
    {
     "data": {
      "image/png": "[encoded data removed]",
      "text/plain": [
       "<Figure size 432x288 with 1 Axes>"
      ]
     },
     "metadata": {},
     "output_type": "display_data"
    }
   ],
   "source": [
    "plt.figure()\n",
    "plt.plot(df_malli['date'], y, 'ko', label=\"Total Cases\")\n",
    "plt.plot(df1['date'], func(df1['day'], *popt), 'r-', label=\"Prediction\")\n",
    "plt.plot(df_havainnot['date'],df_havainnot['Cum'], 'bo', label=\"Testing reduced\")\n",
    "plt.title('Corona situation in Finland')\n",
    "plt.xticks(rotation=90)\n",
    "plt.legend()\n",
    "plt.show()"
   ]
  },
  {
   "cell_type": "code",
   "execution_count": 281,
   "metadata": {
    "scrolled": true
   },
   "outputs": [],
   "source": [
    "def predictTotal(Date,model):\n",
    "    \n",
    "    date_format = \"%d.%m.%Y\"\n",
    "    start_date = datetime.strptime('26.02.2020', date_format)\n",
    "    pred_date = datetime.strptime(Date, date_format)\n",
    "    \n",
    "    x = (pred_date-start_date).days\n",
    "    return round(func(x, *model))\n",
    "\n",
    "   "
   ]
  },
  {
   "cell_type": "markdown",
   "metadata": {},
   "source": [
    "### How many cases there will be on some specific day?"
   ]
  },
  {
   "cell_type": "code",
   "execution_count": 282,
   "metadata": {
    "scrolled": true
   },
   "outputs": [
    {
     "name": "stdout",
     "output_type": "stream",
     "text": [
      "16.03.2020 cumulative cases: 510.0\n",
      "17.03.2020 cumulative cases: 765.0 First death has happen at least when there has been over 800 cases.\n",
      "18.03.2020 cumulative cases: 1147.0\n",
      "19.03.2020 cumulative cases: 1722.0\n",
      "20.03.2020 cumulative cases: 2586.0\n",
      "21.03.2020 cumulative cases: 3883.0\n",
      "22.03.2020 cumulative cases: 5832.0 Entire region of Lombardy is in lockdown. 7.3.2020\n",
      "23.03.2020 cumulative cases: 8759.0 Northern Italy under lockdown. 8.3.2020\n",
      "24.03.2020 cumulative cases: 13157.0 Italy 12.3.20200, deaths 1000.\n",
      "25.03.2020 cumulative cases: 19763.0 Hubei for Feb. 12: 14,840 new cases and 242 new deaths.\n",
      "26.03.2020 cumulative cases: 29687.0 \n",
      "27.03.2020 cumulative cases: 44596.0 \n",
      "28.03.2020 cumulative cases: 66993.0 \n",
      "29.03.2020 cumulative cases: 100639.0 China 18.2.2018. deaths 2000\n",
      "30.03.2020 cumulative cases: 151183.0 China 18.2.2018. deaths 2000\n"
     ]
    }
   ],
   "source": [
    "note = \"\"\n",
    "today = date.today()\n",
    "for i in range(15):\n",
    "    end_date = today + timedelta(days=i)\n",
    "    day2 = end_date.strftime(\"%d.%m.%Y\")\n",
    "    prediction = predictTotal(day2,popt)\n",
    "    if prediction > 74000:\n",
    "        note = \" China 18.2.2018. deaths 2000\"\n",
    "    elif prediction > 20000:\n",
    "        note = \" \"\n",
    "    elif prediction > 14800:\n",
    "        note = \" Hubei for Feb. 12: 14,840 new cases and 242 new deaths.\"\n",
    "    elif prediction > 12800:\n",
    "        note = \" Italy 12.3.20200, deaths 1000.\"\n",
    "    elif prediction > 12000:\n",
    "        note = \" Italy shut down 11.3.2020.\"\n",
    "    elif prediction > 9000:\n",
    "        note = \" Italy strict quarantine measures extended to all regions. 9.3.2020\"\n",
    "    elif prediction > 6000:\n",
    "        note = \" Northern Italy under lockdown. 8.3.2020\"\n",
    "    elif prediction > 5000:\n",
    "        note = \" Entire region of Lombardy is in lockdown. 7.3.2020\"\n",
    "    elif prediction > 1000:\n",
    "        note = \"\"\n",
    "    elif prediction > 700:\n",
    "        note = \" First death has happen at least when there has been over 800 cases.\"\n",
    "    print(day2 + \" cumulative cases: \" + str(prediction) + note)"
   ]
  },
  {
   "cell_type": "markdown",
   "metadata": {},
   "source": [
    "### How many people are not aware having Corona today?"
   ]
  },
  {
   "cell_type": "code",
   "execution_count": 283,
   "metadata": {
    "scrolled": true
   },
   "outputs": [
    {
     "name": "stdout",
     "output_type": "stream",
     "text": [
      "Wash your hands, because 3373.0 people are out there without knowing having COVID-19!\n"
     ]
    }
   ],
   "source": [
    "today = date.today()\n",
    "end_date = today + timedelta(days=5)\n",
    "day1 = today.strftime(\"%d.%m.%Y\")\n",
    "day2 = end_date.strftime(\"%d.%m.%Y\")\n",
    "\n",
    "print(\"Wash your hands, because \" + str(predictTotal(day2,popt) - predictTotal(day1,popt)) + \" people are out there without knowing having COVID-19!\")"
   ]
  },
  {
   "cell_type": "markdown",
   "metadata": {},
   "source": []
  }
 ],
 "metadata": {
  "kernelspec": {
   "display_name": "Python 3",
   "language": "python",
   "name": "python3"
  },
  "language_info": {
   "codemirror_mode": {
    "name": "ipython",
    "version": 3
   },
   "file_extension": ".py",
   "mimetype": "text/x-python",
   "name": "python",
   "nbconvert_exporter": "python",
   "pygments_lexer": "ipython3",
   "version": "3.7.4"
  }
 },
 "nbformat": 4,
 "nbformat_minor": 2
}
